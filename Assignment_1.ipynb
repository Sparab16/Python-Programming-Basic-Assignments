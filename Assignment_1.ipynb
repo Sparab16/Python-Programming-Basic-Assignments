{
 "cells": [
  {
   "cell_type": "markdown",
   "id": "facial-cycling",
   "metadata": {},
   "source": [
    "1. Write a Python program to print \"Hello Python\"?\n",
    "\n",
    "__Ans:-__"
   ]
  },
  {
   "cell_type": "code",
   "execution_count": 1,
   "id": "possible-fifth",
   "metadata": {},
   "outputs": [
    {
     "name": "stdout",
     "output_type": "stream",
     "text": [
      "Hello Python\n"
     ]
    }
   ],
   "source": [
    "print('Hello Python')"
   ]
  },
  {
   "cell_type": "markdown",
   "id": "residential-monkey",
   "metadata": {},
   "source": [
    "***"
   ]
  },
  {
   "cell_type": "markdown",
   "id": "empirical-implement",
   "metadata": {},
   "source": [
    "2. Write a Python program to do arithmetical operations addition and division.?\n",
    "\n",
    "__Ans:-__"
   ]
  },
  {
   "cell_type": "code",
   "execution_count": 5,
   "id": "together-milan",
   "metadata": {},
   "outputs": [
    {
     "name": "stdout",
     "output_type": "stream",
     "text": [
      "9\n",
      "0.8\n"
     ]
    }
   ],
   "source": [
    "def add(num1, num2):\n",
    "    return num1 + num2\n",
    "\n",
    "def divide(num1, num2):\n",
    "    try:\n",
    "        return num1 / num2\n",
    "    except Exception as e:\n",
    "        print(e)\n",
    "        \n",
    "print(add(4, 5))\n",
    "print(divide(4, 5))"
   ]
  },
  {
   "cell_type": "markdown",
   "id": "streaming-installation",
   "metadata": {},
   "source": [
    "***"
   ]
  },
  {
   "cell_type": "markdown",
   "id": "voluntary-tulsa",
   "metadata": {},
   "source": [
    "3. Write a Python program to find the area of a triangle?\n",
    "\n",
    "__Ans:-__"
   ]
  },
  {
   "cell_type": "code",
   "execution_count": 6,
   "id": "macro-payroll",
   "metadata": {},
   "outputs": [
    {
     "name": "stdout",
     "output_type": "stream",
     "text": [
      "25.0\n"
     ]
    }
   ],
   "source": [
    "def area(length, breadth):\n",
    "    return 0.5 * length * breadth\n",
    "print(area(5,10 ))"
   ]
  },
  {
   "cell_type": "markdown",
   "id": "invisible-universe",
   "metadata": {},
   "source": [
    "***"
   ]
  },
  {
   "cell_type": "markdown",
   "id": "everyday-april",
   "metadata": {},
   "source": [
    "4. Write a Python program to swap two variables?\n",
    "\n",
    "__Ans:-__"
   ]
  },
  {
   "cell_type": "code",
   "execution_count": 11,
   "id": "critical-roots",
   "metadata": {},
   "outputs": [
    {
     "name": "stdout",
     "output_type": "stream",
     "text": [
      "num1 and num2 before swapping are  4 5\n",
      "num1 and num2 after swapping are  5 4\n"
     ]
    }
   ],
   "source": [
    "def swap(num1, num2):\n",
    "    print('num1 and num2 before swapping are ',num1, num2)\n",
    "    temp = num1\n",
    "    num1, num2 = num2, temp\n",
    "    print('num1 and num2 after swapping are ',num1, num2)\n",
    "\n",
    "normal_swap(4,5)"
   ]
  },
  {
   "cell_type": "markdown",
   "id": "closed-relation",
   "metadata": {},
   "source": [
    "***"
   ]
  },
  {
   "cell_type": "markdown",
   "id": "natural-matthew",
   "metadata": {},
   "source": [
    "5. Write a Python program to generate a random number?\n",
    "\n",
    "__Ans:-__"
   ]
  },
  {
   "cell_type": "code",
   "execution_count": 21,
   "id": "shaped-leone",
   "metadata": {},
   "outputs": [
    {
     "name": "stdout",
     "output_type": "stream",
     "text": [
      "501\n"
     ]
    }
   ],
   "source": [
    "import random\n",
    "print(int(random.random() * 1000))"
   ]
  },
  {
   "cell_type": "code",
   "execution_count": null,
   "id": "deluxe-maine",
   "metadata": {},
   "outputs": [],
   "source": []
  }
 ],
 "metadata": {
  "kernelspec": {
   "display_name": "Python 3",
   "language": "python",
   "name": "python3"
  },
  "language_info": {
   "codemirror_mode": {
    "name": "ipython",
    "version": 3
   },
   "file_extension": ".py",
   "mimetype": "text/x-python",
   "name": "python",
   "nbconvert_exporter": "python",
   "pygments_lexer": "ipython3",
   "version": "3.8.7"
  }
 },
 "nbformat": 4,
 "nbformat_minor": 5
}
